{
  "nbformat": 4,
  "nbformat_minor": 0,
  "metadata": {
    "colab": {
      "name": "Shubham.ipynb",
      "provenance": []
    },
    "kernelspec": {
      "name": "python3",
      "display_name": "Python 3"
    }
  },
  "cells": [
    {
      "cell_type": "code",
      "metadata": {
        "id": "ah2SIUntNWdf",
        "colab_type": "code",
        "colab": {
          "base_uri": "https://localhost:8080/",
          "height": 187
        },
        "outputId": "a0756dfd-84c1-46a4-da61-0520961a60b0"
      },
      "source": [
        "!pip install -q wordcloud\n",
        "import wordcloud\n",
        "\n",
        "import nltk\n",
        "nltk.download('stopwords')\n",
        "nltk.download('wordnet')\n",
        "nltk.download('punkt')\n",
        "nltk.download('averaged_perceptron_tagger') \n",
        "\n",
        "import pandas as pd\n",
        "import matplotlib.pyplot as plt\n",
        "import io\n",
        "import unicodedata\n",
        "import numpy as np\n",
        "import re\n",
        "import string"
      ],
      "execution_count": 9,
      "outputs": [
        {
          "output_type": "stream",
          "text": [
            "[nltk_data] Downloading package stopwords to /root/nltk_data...\n",
            "[nltk_data]   Package stopwords is already up-to-date!\n",
            "[nltk_data] Downloading package wordnet to /root/nltk_data...\n",
            "[nltk_data]   Package wordnet is already up-to-date!\n",
            "[nltk_data] Downloading package punkt to /root/nltk_data...\n",
            "[nltk_data]   Package punkt is already up-to-date!\n",
            "[nltk_data] Downloading package averaged_perceptron_tagger to\n",
            "[nltk_data]     /root/nltk_data...\n",
            "[nltk_data]   Package averaged_perceptron_tagger is already up-to-\n",
            "[nltk_data]       date!\n"
          ],
          "name": "stdout"
        }
      ]
    },
    {
      "cell_type": "code",
      "metadata": {
        "id": "aTRmxyCaW6MP",
        "colab_type": "code",
        "colab": {
          "base_uri": "https://localhost:8080/",
          "height": 34
        },
        "outputId": "072fb804-345d-4cbd-95ab-0b9d0036afb3"
      },
      "source": [
        "import nltk\n",
        "sentence_data = \"The First sentence is about Python. The Second: Shubham lecture. You can learn Python,NLP and Data Ananlysis here. \"\n",
        "sentences = nltk.sent_tokenize(sentence_data)\n",
        "print (sentences)"
      ],
      "execution_count": 10,
      "outputs": [
        {
          "output_type": "stream",
          "text": [
            "['The First sentence is about Python.', 'The Second: Shubham lecture.', 'You can learn Python,NLP and Data Ananlysis here.']\n"
          ],
          "name": "stdout"
        }
      ]
    },
    {
      "cell_type": "code",
      "metadata": {
        "id": "yec6zaUcWjN5",
        "colab_type": "code",
        "colab": {
          "base_uri": "https://localhost:8080/",
          "height": 54
        },
        "outputId": "45bf0138-79fb-4896-8367-cea330bec762"
      },
      "source": [
        "import nltk\n",
        "from nltk.corpus import stopwords\n",
        "paragraph = \"\"\"Independence Day is celebrated annually on 15 August as a national holiday in India \n",
        "commemorating the nation's independence from the United Kingdom on 15 August 1947, the day when the \n",
        "provisions of the Indian Independence Act 1947, which transferred legislative sovereignty to the \n",
        "Indian Constituent Assembly, came into effect. India retained King George VI as head of state until \n",
        "its transition to a full republic, when the nation adopted the Constitution of India on 26 January \n",
        "1950 (celebrated as Indian Republic Day) and replaced the dominion prefix, Dominion of India, with \n",
        "the enactment of the sovereign law Constitution of India. India attained independence following the \n",
        "Independence Movement noted for largely non-violent resistance and civil disobedience.\"\"\"\n",
        "               \n",
        "# Tokenizing sentences\n",
        "sentences = nltk.sent_tokenize(paragraph)\n",
        "print(sentences)\n",
        "\n"
      ],
      "execution_count": 11,
      "outputs": [
        {
          "output_type": "stream",
          "text": [
            "[\"Independence Day is celebrated annually on 15 August as a national holiday in India \\ncommemorating the nation's independence from the United Kingdom on 15 August 1947, the day when the \\nprovisions of the Indian Independence Act 1947, which transferred legislative sovereignty to the \\nIndian Constituent Assembly, came into effect.\", 'India retained King George VI as head of state until \\nits transition to a full republic, when the nation adopted the Constitution of India on 26 January \\n1950 (celebrated as Indian Republic Day) and replaced the dominion prefix, Dominion of India, with \\nthe enactment of the sovereign law Constitution of India.', 'India attained independence following the \\nIndependence Movement noted for largely non-violent resistance and civil disobedience.']\n"
          ],
          "name": "stdout"
        }
      ]
    },
    {
      "cell_type": "code",
      "metadata": {
        "id": "dczjrO0oNZGI",
        "colab_type": "code",
        "colab": {
          "base_uri": "https://localhost:8080/",
          "height": 71
        },
        "outputId": "5c5a17fc-cc1c-4355-a66b-d85895ef9bba"
      },
      "source": [
        "import nltk\n",
        "from nltk.stem import PorterStemmer\n",
        "from nltk.corpus import stopwords\n",
        "from nltk.stem import WordNetLemmatizer\n",
        "from nltk.stem.porter import *\n",
        "\n",
        "\n",
        "paragraph = \"\"\"Independence Day is celebrated annually on 15 August as a national holiday in India \n",
        "commemorating the nation's independence from the United Kingdom on 15 August 1947, the day when the \n",
        "provisions of the Indian Independence Act 1947, which transferred legislative sovereignty to the \n",
        "Indian Constituent Assembly, came into effect. India retained King George VI as head of state until \n",
        "its transition to a full republic, when the nation adopted the Constitution of India on 26 January \n",
        "1950 (celebrated as Indian Republic Day) and replaced the dominion prefix, Dominion of India, with \n",
        "the enactment of the sovereign law Constitution of India. India attained independence following the \n",
        "Independence Movement noted for largely non-violent resistance and civil disobedience.\"\"\"\n",
        "               \n",
        "# Tokenizing sentences\n",
        "sentences = nltk.sent_tokenize(paragraph)\n",
        "print(len(sentences))\n",
        "lemmatizer = WordNetLemmatizer()\n",
        "# Stemming\n",
        "for i in range(len(sentences)):\n",
        "\n",
        "    words = nltk.word_tokenize(sentences[i])\n",
        "    stemmer = PorterStemmer()\n",
        "    words = [stemmer.stem(word) for word in words if word not in set(stopwords.words('english'))]\n",
        "    sentences[i] = ' '.join(words) \n",
        "\n",
        "print(sentences) ;"
      ],
      "execution_count": 12,
      "outputs": [
        {
          "output_type": "stream",
          "text": [
            "3\n",
            "[\"independ day celebr annual 15 august nation holiday india commemor nation 's independ unit kingdom 15 august 1947 , day provis indian independ act 1947 , transfer legisl sovereignti indian constitu assembl , came effect .\", 'india retain king georg VI head state transit full republ , nation adopt constitut india 26 januari 1950 ( celebr indian republ day ) replac dominion prefix , dominion india , enact sovereign law constitut india .', 'india attain independ follow independ movement note larg non-viol resist civil disobedi .']\n"
          ],
          "name": "stdout"
        }
      ]
    },
    {
      "cell_type": "code",
      "metadata": {
        "id": "YSxeTVo1ZYnp",
        "colab_type": "code",
        "colab": {
          "base_uri": "https://localhost:8080/",
          "height": 71
        },
        "outputId": "101b2c07-0043-420a-ceb7-805076acecf1"
      },
      "source": [
        "import nltk\n",
        "from nltk.stem import PorterStemmer\n",
        "from nltk.corpus import stopwords\n",
        "from nltk.stem import WordNetLemmatizer\n",
        "\n",
        "\n",
        "paragraph =\"\"\"Independence Day is celebrated annually on 15 August as a national holiday in India \n",
        "commemorating the nation's independence from the United Kingdom on 15 August 1947, the day when the \n",
        "provisions of the Indian Independence Act 1947, which transferred legislative sovereignty to the \n",
        "Indian Constituent Assembly, came into effect. India retained King George VI as head of state until \n",
        "its transition to a full republic, when the nation adopted the Constitution of India on 26 January \n",
        "1950 (celebrated as Indian Republic Day) and replaced the dominion prefix, Dominion of India, with \n",
        "the enactment of the sovereign law Constitution of India. India attained independence following the \n",
        "Independence Movement noted for largely non-violent resistance and civil disobedience.\"\"\"\n",
        "               \n",
        "# Tokenizing sentences\n",
        "sentences = nltk.sent_tokenize(paragraph)\n",
        "print(len(sentences))\n",
        "lemmatizer = WordNetLemmatizer()\n",
        "# Stemming\n",
        "for i in range(len(sentences)):\n",
        "    words = nltk.word_tokenize(sentences[i])\n",
        "    words = [lemmatizer.lemmatize(word) for word in words if word not in set(stopwords.words('english'))]\n",
        "    sentences[i] = ' '.join(words) \n",
        "\n",
        "print(sentences) ;"
      ],
      "execution_count": 13,
      "outputs": [
        {
          "output_type": "stream",
          "text": [
            "3\n",
            "[\"Independence Day celebrated annually 15 August national holiday India commemorating nation 's independence United Kingdom 15 August 1947 , day provision Indian Independence Act 1947 , transferred legislative sovereignty Indian Constituent Assembly , came effect .\", 'India retained King George VI head state transition full republic , nation adopted Constitution India 26 January 1950 ( celebrated Indian Republic Day ) replaced dominion prefix , Dominion India , enactment sovereign law Constitution India .', 'India attained independence following Independence Movement noted largely non-violent resistance civil disobedience .']\n"
          ],
          "name": "stdout"
        }
      ]
    },
    {
      "cell_type": "code",
      "metadata": {
        "id": "pq9MMozydPRF",
        "colab_type": "code",
        "colab": {
          "base_uri": "https://localhost:8080/",
          "height": 170
        },
        "outputId": "20fe5a1c-51c3-46c1-e931-cd0469e6e2b3"
      },
      "source": [
        "import nltk\n",
        "nltk.download('stopwords')\n",
        "nltk.download('wordnet')\n",
        "nltk.download('punkt')\n",
        "from nltk.tokenize import word_tokenize\n",
        "from nltk.corpus import stopwords\n",
        "text = \"Hi, this is Shubham Singh. I'm 20 year old. I from Prayagraj Uttar Pradesh.\"\n",
        "print(text)\n",
        "print(word_tokenize(text))\n",
        "sentences = nltk.sent_tokenize(text)\n",
        "print (sentences)"
      ],
      "execution_count": 21,
      "outputs": [
        {
          "output_type": "stream",
          "text": [
            "[nltk_data] Downloading package stopwords to /root/nltk_data...\n",
            "[nltk_data]   Package stopwords is already up-to-date!\n",
            "[nltk_data] Downloading package wordnet to /root/nltk_data...\n",
            "[nltk_data]   Package wordnet is already up-to-date!\n",
            "[nltk_data] Downloading package punkt to /root/nltk_data...\n",
            "[nltk_data]   Package punkt is already up-to-date!\n",
            "Hi, this is Shubham Singh. I'm 20 year old. I from Prayagraj Uttar Pradesh.\n",
            "['Hi', ',', 'this', 'is', 'Shubham', 'Singh', '.', 'I', \"'m\", '20', 'year', 'old', '.', 'I', 'from', 'Prayagraj', 'Uttar', 'Pradesh', '.']\n",
            "['Hi, this is Shubham Singh.', \"I'm 20 year old.\", 'I from Prayagraj Uttar Pradesh.']\n"
          ],
          "name": "stdout"
        }
      ]
    },
    {
      "cell_type": "code",
      "metadata": {
        "id": "pfyOvn9SdPdb",
        "colab_type": "code",
        "colab": {
          "base_uri": "https://localhost:8080/",
          "height": 51
        },
        "outputId": "961510da-4d9f-493e-fb16-aaa4ccd6869a"
      },
      "source": [
        "import nltk\n",
        "from nltk.tokenize import word_tokenize\n",
        "from nltk.corpus import stopwords\n",
        "stop_words = set(stopwords.words('english'))\n",
        "words = nltk.word_tokenize(text)\n",
        "output_sentence = [w for w in words if not w in stop_words]\n",
        "output_sentence = []\n",
        "for w in words:\n",
        "    if w not in stop_words:\n",
        "        output_sentence.append(w)\n",
        "print(words)\n",
        "print(output_sentence)"
      ],
      "execution_count": 20,
      "outputs": [
        {
          "output_type": "stream",
          "text": [
            "['Hi', ',', 'this', 'is', 'Shubham', 'Singh', '.', 'I', \"'m\", '20', 'year', 'old', '.', 'I', 'from', 'Prayagraj', 'Uttar', 'Pradesh', '.']\n",
            "['Hi', ',', 'Shubham', 'Singh', '.', 'I', \"'m\", '20', 'year', 'old', '.', 'I', 'Prayagraj', 'Uttar', 'Pradesh', '.']\n"
          ],
          "name": "stdout"
        }
      ]
    },
    {
      "cell_type": "code",
      "metadata": {
        "id": "2qQe1RhxdPnS",
        "colab_type": "code",
        "colab": {
          "base_uri": "https://localhost:8080/",
          "height": 71
        },
        "outputId": "cb9426f7-8d79-4724-e323-e0b14cbc79bf"
      },
      "source": [
        "from nltk.stem import PorterStemmer\n",
        "paragraph = \"\"\"Independence Day is celebrated annually on 15 August as a national holiday in India \n",
        "commemorating the nation's independence from the United Kingdom on 15 August 1947, the day when the \n",
        "provisions of the Indian Independence Act 1947, which transferred legislative sovereignty to the \n",
        "Indian Constituent Assembly, came into effect. India retained King George VI as head of state until \n",
        "its transition to a full republic, when the nation adopted the Constitution of India on 26 January \n",
        "1950 (celebrated as Indian Republic Day) and replaced the dominion prefix, Dominion of India, with \n",
        "the enactment of the sovereign law Constitution of India. India attained independence following the \n",
        "Independence Movement noted for largely non-violent resistance and civil disobedience.\"\"\"\n",
        "# Tokenizing sentences: Length\n",
        "sentences = nltk.sent_tokenize(paragraph)\n",
        "print(len(sentences))\n",
        "\n",
        "# Stemming\n",
        "for i in range(len(sentences)):\n",
        "    words = nltk.word_tokenize(sentences[i])\n",
        "    stemmer = PorterStemmer()\n",
        "    words = [stemmer.stem(word) for word in words if word not in set(stopwords.words('english'))]\n",
        "    sentences[i] = ' '.join(words) \n",
        "\n",
        "print(sentences) ;"
      ],
      "execution_count": 22,
      "outputs": [
        {
          "output_type": "stream",
          "text": [
            "3\n",
            "[\"independ day celebr annual 15 august nation holiday india commemor nation 's independ unit kingdom 15 august 1947 , day provis indian independ act 1947 , transfer legisl sovereignti indian constitu assembl , came effect .\", 'india retain king georg VI head state transit full republ , nation adopt constitut india 26 januari 1950 ( celebr indian republ day ) replac dominion prefix , dominion india , enact sovereign law constitut india .', 'india attain independ follow independ movement note larg non-viol resist civil disobedi .']\n"
          ],
          "name": "stdout"
        }
      ]
    },
    {
      "cell_type": "code",
      "metadata": {
        "id": "V33AYwwddPrO",
        "colab_type": "code",
        "colab": {
          "base_uri": "https://localhost:8080/",
          "height": 71
        },
        "outputId": "9788060b-2ca6-4620-dc23-760ef4469d1e"
      },
      "source": [
        "from nltk.tokenize import WhitespaceTokenizer\n",
        "sentence_data = \"\"\"Independence Day is celebrated annually on 15 August as a national holiday in India \n",
        "commemorating the nation's independence from the United Kingdom on 15 August 1947, the day when the \n",
        "provisions of the Indian Independence Act 1947, which transferred legislative sovereignty to the \n",
        "Indian Constituent Assembly, came into effect. India retained King George VI as head of state until \n",
        "its transition to a full republic, when the nation adopted the Constitution of India on 26 January \n",
        "1950 (celebrated as Indian Republic Day) and replaced the dominion prefix, Dominion of India, with \n",
        "the enactment of the sovereign law Constitution of India. India attained independence following the \n",
        "Independence Movement noted for largely non-violent resistance and civil disobedience.\"\"\"\n",
        "# Whitespace Tokenizer\n",
        "tokens=WhitespaceTokenizer()\n",
        "output=tokens.tokenize(sentence_data)\n",
        "print(output)\n",
        "print(len(output))"
      ],
      "execution_count": 23,
      "outputs": [
        {
          "output_type": "stream",
          "text": [
            "['Independence', 'Day', 'is', 'celebrated', 'annually', 'on', '15', 'August', 'as', 'a', 'national', 'holiday', 'in', 'India', 'commemorating', 'the', \"nation's\", 'independence', 'from', 'the', 'United', 'Kingdom', 'on', '15', 'August', '1947,', 'the', 'day', 'when', 'the', 'provisions', 'of', 'the', 'Indian', 'Independence', 'Act', '1947,', 'which', 'transferred', 'legislative', 'sovereignty', 'to', 'the', 'Indian', 'Constituent', 'Assembly,', 'came', 'into', 'effect.', 'India', 'retained', 'King', 'George', 'VI', 'as', 'head', 'of', 'state', 'until', 'its', 'transition', 'to', 'a', 'full', 'republic,', 'when', 'the', 'nation', 'adopted', 'the', 'Constitution', 'of', 'India', 'on', '26', 'January', '1950', '(celebrated', 'as', 'Indian', 'Republic', 'Day)', 'and', 'replaced', 'the', 'dominion', 'prefix,', 'Dominion', 'of', 'India,', 'with', 'the', 'enactment', 'of', 'the', 'sovereign', 'law', 'Constitution', 'of', 'India.', 'India', 'attained', 'independence', 'following', 'the', 'Independence', 'Movement', 'noted', 'for', 'largely', 'non-violent', 'resistance', 'and', 'civil', 'disobedience.']\n",
            "115\n"
          ],
          "name": "stdout"
        }
      ]
    },
    {
      "cell_type": "code",
      "metadata": {
        "id": "2XqUjR2AdPvn",
        "colab_type": "code",
        "colab": {
          "base_uri": "https://localhost:8080/",
          "height": 71
        },
        "outputId": "c5aff5d1-71d0-4e53-dd8f-bc6d415a8021"
      },
      "source": [
        "from nltk.tokenize import WordPunctTokenizer\n",
        "sentence_data = \"\"\"Independence Day is celebrated annually on 15 August as a national holiday in India \n",
        "commemorating the nation's independence from the United Kingdom on 15 August 1947, the day when the \n",
        "provisions of the Indian Independence Act 1947, which transferred legislative sovereignty to the \n",
        "Indian Constituent Assembly, came into effect. India retained King George VI as head of state until \n",
        "its transition to a full republic, when the nation adopted the Constitution of India on 26 January \n",
        "1950 (celebrated as Indian Republic Day) and replaced the dominion prefix, Dominion of India, with \n",
        "the enactment of the sovereign law Constitution of India. India attained independence following the \n",
        "Independence Movement noted for largely non-violent resistance and civil disobedience.\"\"\"\n",
        "#WordPunctTokenizer\n",
        "tokens=WordPunctTokenizer()\n",
        "output=tokens.tokenize(sentence_data)\n",
        "print(output)\n",
        "print(len(output))"
      ],
      "execution_count": 24,
      "outputs": [
        {
          "output_type": "stream",
          "text": [
            "['Independence', 'Day', 'is', 'celebrated', 'annually', 'on', '15', 'August', 'as', 'a', 'national', 'holiday', 'in', 'India', 'commemorating', 'the', 'nation', \"'\", 's', 'independence', 'from', 'the', 'United', 'Kingdom', 'on', '15', 'August', '1947', ',', 'the', 'day', 'when', 'the', 'provisions', 'of', 'the', 'Indian', 'Independence', 'Act', '1947', ',', 'which', 'transferred', 'legislative', 'sovereignty', 'to', 'the', 'Indian', 'Constituent', 'Assembly', ',', 'came', 'into', 'effect', '.', 'India', 'retained', 'King', 'George', 'VI', 'as', 'head', 'of', 'state', 'until', 'its', 'transition', 'to', 'a', 'full', 'republic', ',', 'when', 'the', 'nation', 'adopted', 'the', 'Constitution', 'of', 'India', 'on', '26', 'January', '1950', '(', 'celebrated', 'as', 'Indian', 'Republic', 'Day', ')', 'and', 'replaced', 'the', 'dominion', 'prefix', ',', 'Dominion', 'of', 'India', ',', 'with', 'the', 'enactment', 'of', 'the', 'sovereign', 'law', 'Constitution', 'of', 'India', '.', 'India', 'attained', 'independence', 'following', 'the', 'Independence', 'Movement', 'noted', 'for', 'largely', 'non', '-', 'violent', 'resistance', 'and', 'civil', 'disobedience', '.']\n",
            "130\n"
          ],
          "name": "stdout"
        }
      ]
    },
    {
      "cell_type": "code",
      "metadata": {
        "id": "khCxROEBdPy6",
        "colab_type": "code",
        "colab": {
          "base_uri": "https://localhost:8080/",
          "height": 71
        },
        "outputId": "314fb712-7f3e-4147-db4d-e3018ebb3ced"
      },
      "source": [
        "from nltk.tokenize import TreebankWordTokenizer\n",
        "sentence_data = \"\"\"Independence Day is celebrated annually on 15 August as a national holiday in India \n",
        "commemorating the nation's independence from the United Kingdom on 15 August 1947, the day when the \n",
        "provisions of the Indian Independence Act 1947, which transferred legislative sovereignty to the \n",
        "Indian Constituent Assembly, came into effect. India retained King George VI as head of state until \n",
        "its transition to a full republic, when the nation adopted the Constitution of India on 26 January \n",
        "1950 (celebrated as Indian Republic Day) and replaced the dominion prefix, Dominion of India, with \n",
        "the enactment of the sovereign law Constitution of India. India attained independence following the \n",
        "Independence Movement noted for largely non-violent resistance and civil disobedience.\"\"\"\n",
        "#TreebankWordTokenizer\n",
        "tokens=TreebankWordTokenizer()\n",
        "output=tokens.tokenize(sentence_data)\n",
        "print(output)\n",
        "print(len(output))"
      ],
      "execution_count": 25,
      "outputs": [
        {
          "output_type": "stream",
          "text": [
            "['Independence', 'Day', 'is', 'celebrated', 'annually', 'on', '15', 'August', 'as', 'a', 'national', 'holiday', 'in', 'India', 'commemorating', 'the', 'nation', \"'s\", 'independence', 'from', 'the', 'United', 'Kingdom', 'on', '15', 'August', '1947', ',', 'the', 'day', 'when', 'the', 'provisions', 'of', 'the', 'Indian', 'Independence', 'Act', '1947', ',', 'which', 'transferred', 'legislative', 'sovereignty', 'to', 'the', 'Indian', 'Constituent', 'Assembly', ',', 'came', 'into', 'effect.', 'India', 'retained', 'King', 'George', 'VI', 'as', 'head', 'of', 'state', 'until', 'its', 'transition', 'to', 'a', 'full', 'republic', ',', 'when', 'the', 'nation', 'adopted', 'the', 'Constitution', 'of', 'India', 'on', '26', 'January', '1950', '(', 'celebrated', 'as', 'Indian', 'Republic', 'Day', ')', 'and', 'replaced', 'the', 'dominion', 'prefix', ',', 'Dominion', 'of', 'India', ',', 'with', 'the', 'enactment', 'of', 'the', 'sovereign', 'law', 'Constitution', 'of', 'India.', 'India', 'attained', 'independence', 'following', 'the', 'Independence', 'Movement', 'noted', 'for', 'largely', 'non-violent', 'resistance', 'and', 'civil', 'disobedience', '.']\n",
            "125\n"
          ],
          "name": "stdout"
        }
      ]
    },
    {
      "cell_type": "code",
      "metadata": {
        "id": "DIo30l3pdP6O",
        "colab_type": "code",
        "colab": {}
      },
      "source": [
        ""
      ],
      "execution_count": null,
      "outputs": []
    },
    {
      "cell_type": "code",
      "metadata": {
        "id": "InLLpFcAdP3M",
        "colab_type": "code",
        "colab": {}
      },
      "source": [
        ""
      ],
      "execution_count": null,
      "outputs": []
    }
  ]
}