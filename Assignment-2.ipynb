{
  "nbformat": 4,
  "nbformat_minor": 0,
  "metadata": {
    "colab": {
      "name": "Untitled3.ipynb",
      "provenance": []
    },
    "kernelspec": {
      "name": "python3",
      "display_name": "Python 3"
    }
  },
  "cells": [
    {
      "cell_type": "code",
      "metadata": {
        "id": "ztR_wwiM-tKI",
        "colab_type": "code",
        "colab": {}
      },
      "source": [
        "import os\n",
        "import pandas as pd\n",
        "import matplotlib.pyplot as plt\n",
        "import seaborn as sns\n",
        "import itertools\n",
        "import collections\n",
        "\n",
        "import json\n",
        "import tweepy as tw\n",
        "import nltk\n",
        "from nltk.corpus import stopwords\n",
        "from nltk import bigrams\n",
        "import re\n",
        "from textblob import TextBlob\n",
        "import networkx\n",
        "import networkx as nx\n",
        "import earthpy as et\n",
        "\n",
        "import warnings\n",
        "warnings.filterwarnings(\"ignore\")\n",
        "\n",
        "sns.set(font_scale=1.5)\n",
        "sns.set_style(\"whitegrid\")\n",
        "\n",
        "# Get the already collected twitter data in JSON format\n",
        "et.data.get_data('twitter-flood')\n",
        "\n",
        "# Set working directory\n",
        "os.chdir(os.path.join(et.io.HOME, 'earth-analytics', 'data'))"
      ],
      "execution_count": null,
      "outputs": []
    },
    {
      "cell_type": "code",
      "metadata": {
        "id": "bCaPwMVq_xn8",
        "colab_type": "code",
        "colab": {
          "base_uri": "https://localhost:8080/",
          "height": 35
        },
        "outputId": "c9745dba-1fdd-497c-d1bf-82d64f187aea"
      },
      "source": [
        "flood_tweets_path = os.path.join(\"twitter-flood\", \"boulder_flood_geolocated_tweets.json\")\n",
        "flood_tweets_path"
      ],
      "execution_count": 5,
      "outputs": [
        {
          "output_type": "execute_result",
          "data": {
            "application/vnd.google.colaboratory.intrinsic+json": {
              "type": "string"
            },
            "text/plain": [
              "'twitter-flood/boulder_flood_geolocated_tweets.json'"
            ]
          },
          "metadata": {
            "tags": []
          },
          "execution_count": 5
        }
      ]
    },
    {
      "cell_type": "code",
      "metadata": {
        "id": "OJC12A4TCSU-",
        "colab_type": "code",
        "colab": {
          "base_uri": "https://localhost:8080/",
          "height": 1000
        },
        "outputId": "b6243e6d-95c1-4d13-a970-7ef4dca80a38"
      },
      "source": [
        "# Loop through each tweet in the JSON file and append it to a list\n",
        "flood_tweets = []\n",
        "for line in open(flood_tweets_path, 'r'):\n",
        "    flood_tweets.append(json.loads(line))\n",
        "\n",
        "# View a single tweet in your list.\n",
        "flood_tweets[1]"
      ],
      "execution_count": 6,
      "outputs": [
        {
          "output_type": "execute_result",
          "data": {
            "text/plain": [
              "{'contributors': None,\n",
              " 'coordinates': None,\n",
              " 'created_at': 'Tue Dec 31 18:49:31 +0000 2013',\n",
              " 'entities': {'hashtags': [{'indices': [108, 113], 'text': 'snow'},\n",
              "   {'indices': [114, 119], 'text': 'COwx'},\n",
              "   {'indices': [120, 128], 'text': 'weather'},\n",
              "   {'indices': [129, 136], 'text': 'Denver'}],\n",
              "  'symbols': [],\n",
              "  'urls': [],\n",
              "  'user_mentions': [{'id': 1214463582,\n",
              "    'id_str': '1214463582',\n",
              "    'indices': [0, 14],\n",
              "    'name': 'WeatherDude',\n",
              "    'screen_name': 'WeatherDude17'}]},\n",
              " 'favorite_count': 0,\n",
              " 'favorited': False,\n",
              " 'geo': None,\n",
              " 'id': 418091565161017345,\n",
              " 'id_str': '418091565161017345',\n",
              " 'in_reply_to_screen_name': 'WeatherDude17',\n",
              " 'in_reply_to_status_id': 418091408994471937,\n",
              " 'in_reply_to_status_id_str': '418091408994471937',\n",
              " 'in_reply_to_user_id': 1214463582,\n",
              " 'in_reply_to_user_id_str': '1214463582',\n",
              " 'is_quote_status': False,\n",
              " 'lang': 'en',\n",
              " 'place': None,\n",
              " 'retweet_count': 0,\n",
              " 'retweeted': False,\n",
              " 'source': '<a href=\"https://about.twitter.com/products/tweetdeck\" rel=\"nofollow\">TweetDeck</a>',\n",
              " 'text': '@WeatherDude17 Not that revved up yet due to model inconsistency. I\\'d say 0-2\" w/ a decent chance of &gt;1\" #snow #COwx #weather #Denver',\n",
              " 'truncated': False,\n",
              " 'user': {'contributors_enabled': False,\n",
              "  'created_at': 'Fri Jul 09 23:15:25 +0000 2010',\n",
              "  'default_profile': True,\n",
              "  'default_profile_image': False,\n",
              "  'description': \"Bringing you weather information & forecasts for the Denver metro area and Colorado. Previously worked at NOAA's CPC & @capitalweather.\",\n",
              "  'entities': {'description': {'urls': []},\n",
              "   'url': {'urls': [{'display_url': 'weather5280.com',\n",
              "      'expanded_url': 'http://www.weather5280.com',\n",
              "      'indices': [0, 23],\n",
              "      'url': 'https://t.co/TFT5G0nnPh'}]}},\n",
              "  'favourites_count': 14777,\n",
              "  'follow_request_sent': False,\n",
              "  'followers_count': 2181,\n",
              "  'following': False,\n",
              "  'friends_count': 458,\n",
              "  'geo_enabled': True,\n",
              "  'has_extended_profile': False,\n",
              "  'id': 164856599,\n",
              "  'id_str': '164856599',\n",
              "  'is_translation_enabled': False,\n",
              "  'is_translator': False,\n",
              "  'lang': 'en',\n",
              "  'listed_count': 199,\n",
              "  'location': 'Denver, CO',\n",
              "  'name': 'Josh Larson',\n",
              "  'notifications': False,\n",
              "  'profile_background_color': 'C0DEED',\n",
              "  'profile_background_image_url': 'http://abs.twimg.com/images/themes/theme1/bg.png',\n",
              "  'profile_background_image_url_https': 'https://abs.twimg.com/images/themes/theme1/bg.png',\n",
              "  'profile_background_tile': False,\n",
              "  'profile_image_url': 'http://pbs.twimg.com/profile_images/910542678072238082/DYfwLSOF_normal.jpg',\n",
              "  'profile_image_url_https': 'https://pbs.twimg.com/profile_images/910542678072238082/DYfwLSOF_normal.jpg',\n",
              "  'profile_link_color': '1DA1F2',\n",
              "  'profile_sidebar_border_color': 'C0DEED',\n",
              "  'profile_sidebar_fill_color': 'DDEEF6',\n",
              "  'profile_text_color': '333333',\n",
              "  'profile_use_background_image': True,\n",
              "  'protected': False,\n",
              "  'screen_name': 'coloradowx',\n",
              "  'statuses_count': 18024,\n",
              "  'time_zone': 'Mountain Time (US & Canada)',\n",
              "  'translator_type': 'none',\n",
              "  'url': 'https://t.co/TFT5G0nnPh',\n",
              "  'utc_offset': -25200,\n",
              "  'verified': False}}"
            ]
          },
          "metadata": {
            "tags": []
          },
          "execution_count": 6
        }
      ]
    },
    {
      "cell_type": "code",
      "metadata": {
        "id": "AUkqqfYyCYmB",
        "colab_type": "code",
        "colab": {
          "base_uri": "https://localhost:8080/",
          "height": 34
        },
        "outputId": "1ebe14cc-f78d-4b27-b46b-1c8965876644"
      },
      "source": [
        "type(flood_tweets[1])"
      ],
      "execution_count": 7,
      "outputs": [
        {
          "output_type": "execute_result",
          "data": {
            "text/plain": [
              "dict"
            ]
          },
          "metadata": {
            "tags": []
          },
          "execution_count": 7
        }
      ]
    },
    {
      "cell_type": "code",
      "metadata": {
        "id": "bGQgw2wUCdDf",
        "colab_type": "code",
        "colab": {
          "base_uri": "https://localhost:8080/",
          "height": 54
        },
        "outputId": "4d398c5f-efa0-448a-9290-e8891982d400"
      },
      "source": [
        "a_single_tweet = flood_tweets[1]\n",
        "a_single_tweet.keys()"
      ],
      "execution_count": 8,
      "outputs": [
        {
          "output_type": "execute_result",
          "data": {
            "text/plain": [
              "dict_keys(['created_at', 'id', 'id_str', 'text', 'truncated', 'entities', 'source', 'in_reply_to_status_id', 'in_reply_to_status_id_str', 'in_reply_to_user_id', 'in_reply_to_user_id_str', 'in_reply_to_screen_name', 'user', 'geo', 'coordinates', 'place', 'contributors', 'is_quote_status', 'retweet_count', 'favorite_count', 'favorited', 'retweeted', 'lang'])"
            ]
          },
          "metadata": {
            "tags": []
          },
          "execution_count": 8
        }
      ]
    },
    {
      "cell_type": "code",
      "metadata": {
        "id": "NyyTv67zCdO6",
        "colab_type": "code",
        "colab": {
          "base_uri": "https://localhost:8080/",
          "height": 35
        },
        "outputId": "e38eefe1-258e-4729-d9df-0c79d06025dd"
      },
      "source": [
        "# View the created at time stamp in the dictionary\n",
        "a_single_tweet[\"created_at\"]"
      ],
      "execution_count": 9,
      "outputs": [
        {
          "output_type": "execute_result",
          "data": {
            "application/vnd.google.colaboratory.intrinsic+json": {
              "type": "string"
            },
            "text/plain": [
              "'Tue Dec 31 18:49:31 +0000 2013'"
            ]
          },
          "metadata": {
            "tags": []
          },
          "execution_count": 9
        }
      ]
    },
    {
      "cell_type": "code",
      "metadata": {
        "id": "7PRc5WJzCdUO",
        "colab_type": "code",
        "colab": {
          "base_uri": "https://localhost:8080/",
          "height": 85
        },
        "outputId": "6371c1ce-b62e-46b2-f9e6-27e8c0eff54f"
      },
      "source": [
        "a_single_tweet[\"entities\"][\"hashtags\"]"
      ],
      "execution_count": 10,
      "outputs": [
        {
          "output_type": "execute_result",
          "data": {
            "text/plain": [
              "[{'indices': [108, 113], 'text': 'snow'},\n",
              " {'indices': [114, 119], 'text': 'COwx'},\n",
              " {'indices': [120, 128], 'text': 'weather'},\n",
              " {'indices': [129, 136], 'text': 'Denver'}]"
            ]
          },
          "metadata": {
            "tags": []
          },
          "execution_count": 10
        }
      ]
    },
    {
      "cell_type": "code",
      "metadata": {
        "id": "DNvlsy0CCdYU",
        "colab_type": "code",
        "colab": {
          "base_uri": "https://localhost:8080/",
          "height": 35
        },
        "outputId": "bedd25b6-1a67-422a-bd66-202459095ded"
      },
      "source": [
        "# Get the second item in the list and it's associated hashtag\n",
        "a_single_tweet[\"entities\"][\"hashtags\"][1][\"text\"]"
      ],
      "execution_count": 11,
      "outputs": [
        {
          "output_type": "execute_result",
          "data": {
            "application/vnd.google.colaboratory.intrinsic+json": {
              "type": "string"
            },
            "text/plain": [
              "'COwx'"
            ]
          },
          "metadata": {
            "tags": []
          },
          "execution_count": 11
        }
      ]
    },
    {
      "cell_type": "code",
      "metadata": {
        "id": "7_0dgaBECdb2",
        "colab_type": "code",
        "colab": {}
      },
      "source": [
        "def remove_url_punctuation(txt):\n",
        "    \"\"\"Replace URLs found in a text string with nothing \n",
        "    (i.e. it will remove the URL from the string).\n",
        "\n",
        "    Parameters\n",
        "    ----------\n",
        "    txt : string\n",
        "        A text string that you want to parse and remove urls.\n",
        "\n",
        "    Returns\n",
        "    -------\n",
        "    The same txt string with url's removed.\n",
        "    \"\"\"\n",
        "    url_pattern = re.compile(r'https?://\\S+|www\\.\\S+')\n",
        "    no_url = url_pattern.sub(r'', txt)\n",
        "    \n",
        "    punct_pattern = re.compile(r'[^\\w\\s]')\n",
        "    no_punct = punct_pattern.sub(r'', no_url)\n",
        "    \n",
        "    # Clean up punctuation (including pound signs)\n",
        "    return no_punct"
      ],
      "execution_count": 12,
      "outputs": []
    },
    {
      "cell_type": "code",
      "metadata": {
        "id": "AjqEBnHlCdgC",
        "colab_type": "code",
        "colab": {
          "base_uri": "https://localhost:8080/",
          "height": 35
        },
        "outputId": "c0cdc7e1-04a3-41ac-c8cf-d1860a7134d0"
      },
      "source": [
        "# Create a custom search term and define the number of tweets\n",
        "flood_tweets[2][\"text\"]"
      ],
      "execution_count": 13,
      "outputs": [
        {
          "output_type": "execute_result",
          "data": {
            "application/vnd.google.colaboratory.intrinsic+json": {
              "type": "string"
            },
            "text/plain": [
              "'Story of my life! 😂 #boulder http://t.co/ZMfNKEl0xD'"
            ]
          },
          "metadata": {
            "tags": []
          },
          "execution_count": 13
        }
      ]
    },
    {
      "cell_type": "code",
      "metadata": {
        "id": "YdvoXKlkCwxm",
        "colab_type": "code",
        "colab": {
          "base_uri": "https://localhost:8080/",
          "height": 35
        },
        "outputId": "a41203a6-f5bc-42f7-eb21-f583f66d0cca"
      },
      "source": [
        "# Remove URLs\n",
        "tweets_no_urls = [remove_url_punctuation(atweet[\"text\"]) for atweet in flood_tweets]\n",
        "tweets_no_urls[2]"
      ],
      "execution_count": 14,
      "outputs": [
        {
          "output_type": "execute_result",
          "data": {
            "application/vnd.google.colaboratory.intrinsic+json": {
              "type": "string"
            },
            "text/plain": [
              "'Story of my life  boulder '"
            ]
          },
          "metadata": {
            "tags": []
          },
          "execution_count": 14
        }
      ]
    },
    {
      "cell_type": "code",
      "metadata": {
        "id": "AZxyRvgCCw31",
        "colab_type": "code",
        "colab": {
          "base_uri": "https://localhost:8080/",
          "height": 34
        },
        "outputId": "fc2c8561-bbb6-4eb4-87cc-58a9cc16c863"
      },
      "source": [
        "# Create a list of lists containing lowercase words for each tweet\n",
        "words_in_tweet = [tweet.lower().split() for tweet in tweets_no_urls]\n",
        "words_in_tweet[2]"
      ],
      "execution_count": 15,
      "outputs": [
        {
          "output_type": "execute_result",
          "data": {
            "text/plain": [
              "['story', 'of', 'my', 'life', 'boulder']"
            ]
          },
          "metadata": {
            "tags": []
          },
          "execution_count": 15
        }
      ]
    },
    {
      "cell_type": "code",
      "metadata": {
        "id": "aWB17SQ-CxEq",
        "colab_type": "code",
        "colab": {
          "base_uri": "https://localhost:8080/",
          "height": 272
        },
        "outputId": "13c25c72-9bc0-4c60-8008-f3dacb336a7f"
      },
      "source": [
        "# List of all words across tweets\n",
        "all_words_no_urls = list(itertools.chain(*words_in_tweet))\n",
        "\n",
        "# Count each word across all tweets - notice there are still stop words\n",
        "counts_no_urls = collections.Counter(all_words_no_urls)\n",
        "counts_no_urls.most_common(15)"
      ],
      "execution_count": 16,
      "outputs": [
        {
          "output_type": "execute_result",
          "data": {
            "text/plain": [
              "[('rt', 7884),\n",
              " ('boulder', 6980),\n",
              " ('the', 6849),\n",
              " ('in', 5730),\n",
              " ('to', 5619),\n",
              " ('cowx', 5338),\n",
              " ('boulderflood', 5317),\n",
              " ('of', 4778),\n",
              " ('coflood', 4312),\n",
              " ('a', 3240),\n",
              " ('for', 3156),\n",
              " ('and', 2823),\n",
              " ('is', 2596),\n",
              " ('at', 2330),\n",
              " ('on', 2282)]"
            ]
          },
          "metadata": {
            "tags": []
          },
          "execution_count": 16
        }
      ]
    },
    {
      "cell_type": "code",
      "metadata": {
        "id": "drmhYOA3CxIS",
        "colab_type": "code",
        "colab": {
          "base_uri": "https://localhost:8080/",
          "height": 68
        },
        "outputId": "40fdc752-725c-4ae5-cc67-d2ee8a2bb79a"
      },
      "source": [
        "# Remove stop words and any other words you want to clean up\n",
        "nltk.download('stopwords')\n",
        "stop_words = set(stopwords.words('english'))\n",
        "\n",
        "# Remove stop words from each tweet list of words\n",
        "tweets_nsw = [[word for word in tweet_words if not word in stop_words]\n",
        "              for tweet_words in words_in_tweet]\n",
        "\n",
        "# Remove collection and other twitter related words (rt = retweet on twitter)\n",
        "collection_words = ['rt']\n",
        "tweets_nsw_nc = [[w for w in word if not w in collection_words]\n",
        "                 for word in tweets_nsw]\n",
        "\n",
        "tweets_nsw_nc[2]"
      ],
      "execution_count": 17,
      "outputs": [
        {
          "output_type": "stream",
          "text": [
            "[nltk_data] Downloading package stopwords to /root/nltk_data...\n",
            "[nltk_data]   Unzipping corpora/stopwords.zip.\n"
          ],
          "name": "stdout"
        },
        {
          "output_type": "execute_result",
          "data": {
            "text/plain": [
              "['story', 'life', 'boulder']"
            ]
          },
          "metadata": {
            "tags": []
          },
          "execution_count": 17
        }
      ]
    },
    {
      "cell_type": "code",
      "metadata": {
        "id": "zgWs3bm3CxL0",
        "colab_type": "code",
        "colab": {
          "base_uri": "https://localhost:8080/",
          "height": 514
        },
        "outputId": "feb80d07-50f8-464b-a7a5-e17ddd05333a"
      },
      "source": [
        "# Process for word counts\n",
        "all_words_nsw = list(itertools.chain(*tweets_nsw_nc))\n",
        "\n",
        "counts_nsw = collections.Counter(all_words_nsw)\n",
        "\n",
        "clean_tweets_nsw = pd.DataFrame(counts_nsw.most_common(15),\n",
        "                             columns=['words', 'count'])\n",
        "clean_tweets_nsw"
      ],
      "execution_count": 18,
      "outputs": [
        {
          "output_type": "execute_result",
          "data": {
            "text/html": [
              "<div>\n",
              "<style scoped>\n",
              "    .dataframe tbody tr th:only-of-type {\n",
              "        vertical-align: middle;\n",
              "    }\n",
              "\n",
              "    .dataframe tbody tr th {\n",
              "        vertical-align: top;\n",
              "    }\n",
              "\n",
              "    .dataframe thead th {\n",
              "        text-align: right;\n",
              "    }\n",
              "</style>\n",
              "<table border=\"1\" class=\"dataframe\">\n",
              "  <thead>\n",
              "    <tr style=\"text-align: right;\">\n",
              "      <th></th>\n",
              "      <th>words</th>\n",
              "      <th>count</th>\n",
              "    </tr>\n",
              "  </thead>\n",
              "  <tbody>\n",
              "    <tr>\n",
              "      <th>0</th>\n",
              "      <td>boulder</td>\n",
              "      <td>6980</td>\n",
              "    </tr>\n",
              "    <tr>\n",
              "      <th>1</th>\n",
              "      <td>cowx</td>\n",
              "      <td>5338</td>\n",
              "    </tr>\n",
              "    <tr>\n",
              "      <th>2</th>\n",
              "      <td>boulderflood</td>\n",
              "      <td>5317</td>\n",
              "    </tr>\n",
              "    <tr>\n",
              "      <th>3</th>\n",
              "      <td>coflood</td>\n",
              "      <td>4312</td>\n",
              "    </tr>\n",
              "    <tr>\n",
              "      <th>4</th>\n",
              "      <td>colorado</td>\n",
              "      <td>2237</td>\n",
              "    </tr>\n",
              "    <tr>\n",
              "      <th>5</th>\n",
              "      <td>denver</td>\n",
              "      <td>1480</td>\n",
              "    </tr>\n",
              "    <tr>\n",
              "      <th>6</th>\n",
              "      <td>flood</td>\n",
              "      <td>1285</td>\n",
              "    </tr>\n",
              "    <tr>\n",
              "      <th>7</th>\n",
              "      <td>snow</td>\n",
              "      <td>1202</td>\n",
              "    </tr>\n",
              "    <tr>\n",
              "      <th>8</th>\n",
              "      <td>amp</td>\n",
              "      <td>1202</td>\n",
              "    </tr>\n",
              "    <tr>\n",
              "      <th>9</th>\n",
              "      <td>weather</td>\n",
              "      <td>1070</td>\n",
              "    </tr>\n",
              "    <tr>\n",
              "      <th>10</th>\n",
              "      <td>creek</td>\n",
              "      <td>961</td>\n",
              "    </tr>\n",
              "    <tr>\n",
              "      <th>11</th>\n",
              "      <td>water</td>\n",
              "      <td>884</td>\n",
              "    </tr>\n",
              "    <tr>\n",
              "      <th>12</th>\n",
              "      <td>rain</td>\n",
              "      <td>804</td>\n",
              "    </tr>\n",
              "    <tr>\n",
              "      <th>13</th>\n",
              "      <td>today</td>\n",
              "      <td>734</td>\n",
              "    </tr>\n",
              "    <tr>\n",
              "      <th>14</th>\n",
              "      <td>dailycamera</td>\n",
              "      <td>716</td>\n",
              "    </tr>\n",
              "  </tbody>\n",
              "</table>\n",
              "</div>"
            ],
            "text/plain": [
              "           words  count\n",
              "0        boulder   6980\n",
              "1           cowx   5338\n",
              "2   boulderflood   5317\n",
              "3        coflood   4312\n",
              "4       colorado   2237\n",
              "5         denver   1480\n",
              "6          flood   1285\n",
              "7           snow   1202\n",
              "8            amp   1202\n",
              "9        weather   1070\n",
              "10         creek    961\n",
              "11         water    884\n",
              "12          rain    804\n",
              "13         today    734\n",
              "14   dailycamera    716"
            ]
          },
          "metadata": {
            "tags": []
          },
          "execution_count": 18
        }
      ]
    },
    {
      "cell_type": "code",
      "metadata": {
        "id": "LHCE_hdICxBc",
        "colab_type": "code",
        "colab": {
          "base_uri": "https://localhost:8080/",
          "height": 513
        },
        "outputId": "7b98431f-cfdc-4cbd-c98a-e37088b823e6"
      },
      "source": [
        "fig, ax = plt.subplots(figsize=(8, 8))\n",
        "\n",
        "# Plot horizontal bar graph\n",
        "clean_tweets_nsw.sort_values(by='count').plot.barh(x='words',\n",
        "                      y='count',\n",
        "                      ax=ax,\n",
        "                      color=\"purple\")\n",
        "\n",
        "ax.set_title(\"Common Words Found in Tweets (Without Stop Words)\")\n",
        "\n",
        "plt.show()"
      ],
      "execution_count": 19,
      "outputs": [
        {
          "output_type": "display_data",
          "data": {
            "image/png": "[encoded data removed]",
            "text/plain": [
              "<Figure size 576x576 with 1 Axes>"
            ]
          },
          "metadata": {
            "tags": []
          }
        }
      ]
    },
    {
      "cell_type": "code",
      "metadata": {
        "id": "z1N3MCM9Cw-h",
        "colab_type": "code",
        "colab": {
          "base_uri": "https://localhost:8080/",
          "height": 357
        },
        "outputId": "4e2dc582-1b22-43a6-bc62-b7a768d9a72a"
      },
      "source": [
        "# Create list of lists containing bigrams in tweets\n",
        "terms_bigram = [list(bigrams(tweet)) for tweet in tweets_nsw_nc]\n",
        "\n",
        "# Flatten list of bigrams in clean tweets\n",
        "coupled_words = list(itertools.chain(*terms_bigram))\n",
        "\n",
        "# Create counter of words in clean bigrams\n",
        "bigram_counts = collections.Counter(coupled_words)\n",
        "\n",
        "bigram_counts.most_common(20)"
      ],
      "execution_count": 20,
      "outputs": [
        {
          "output_type": "execute_result",
          "data": {
            "text/plain": [
              "[(('cowx', 'weather'), 618),\n",
              " (('boulder', 'colorado'), 457),\n",
              " (('boulder', 'creek'), 436),\n",
              " (('cowx', 'coflood'), 408),\n",
              " (('boulderflood', 'cowx'), 287),\n",
              " (('boulder', 'county'), 268),\n",
              " (('boulderflood', 'coflood'), 256),\n",
              " (('cowx', 'gjco'), 214),\n",
              " (('boulder', 'boulderflood'), 199),\n",
              " (('cowx', 'westernslope'), 192),\n",
              " (('cowx', 'denver'), 189),\n",
              " (('flash', 'flood'), 188),\n",
              " (('boulder', 'canyon'), 185),\n",
              " (('coflood', 'cowx'), 181),\n",
              " (('wall', 'water'), 179),\n",
              " (('coflood', 'boulderflood'), 164),\n",
              " (('higher', 'ground'), 163),\n",
              " (('dailycamera', 'boulder'), 156),\n",
              " (('flood', 'warning'), 149),\n",
              " (('boulder', 'co'), 144)]"
            ]
          },
          "metadata": {
            "tags": []
          },
          "execution_count": 20
        }
      ]
    },
    {
      "cell_type": "code",
      "metadata": {
        "id": "m-3AyayUCw7O",
        "colab_type": "code",
        "colab": {}
      },
      "source": [
        "# Create a network plot of grouped terms\n",
        "bigram_df = pd.DataFrame(bigram_counts.most_common(20),\n",
        "                             columns=['bigram', 'count'])\n",
        "\n",
        "# Create dictionary of bigrams and their counts\n",
        "d = bigram_df.set_index('bigram').T.to_dict('records')\n",
        "\n",
        "# Create network plot \n",
        "G = nx.Graph()\n",
        "\n",
        "# Create connections between nodes\n",
        "for k, v in d[0].items():\n",
        "    G.add_edge(k[0], k[1], weight=(v * 10))"
      ],
      "execution_count": 21,
      "outputs": []
    },
    {
      "cell_type": "code",
      "metadata": {
        "id": "IMYylhF6DKYN",
        "colab_type": "code",
        "colab": {
          "base_uri": "https://localhost:8080/",
          "height": 469
        },
        "outputId": "03fc7a78-a9d5-4015-be3d-9d508b39dc2a"
      },
      "source": [
        "fig, ax = plt.subplots(figsize=(12, 8))\n",
        "\n",
        "pos = nx.spring_layout(G, k=5.5)\n",
        "# Plot networks\n",
        "nx.draw_networkx(G, pos,\n",
        "                 font_size=16,\n",
        "                 width=3,\n",
        "                 edge_color='grey',\n",
        "                 node_color='purple',\n",
        "                 with_labels = False,\n",
        "                 ax=ax)\n",
        "\n",
        "# Create offset labels\n",
        "for key, value in pos.items():\n",
        "    x, y = value[0]+.135, value[1]+.05\n",
        "    ax.text(x, y,\n",
        "            s=key,\n",
        "            bbox=dict(facecolor='red', alpha=0.25),\n",
        "            horizontalalignment='center', fontsize=14)\n",
        "    \n",
        "plt.show()"
      ],
      "execution_count": 22,
      "outputs": [
        {
          "output_type": "display_data",
          "data": {
            "image/png": "[encoded data removed]",
            "text/plain": [
              "<Figure size 864x576 with 1 Axes>"
            ]
          },
          "metadata": {
            "tags": []
          }
        }
      ]
    },
    {
      "cell_type": "code",
      "metadata": {
        "id": "clM5HRDxDKdC",
        "colab_type": "code",
        "colab": {
          "base_uri": "https://localhost:8080/",
          "height": 34
        },
        "outputId": "8404a5f2-2922-4306-aa89-cb013d8d93f4"
      },
      "source": [
        "# Create textblob objects of the tweets\n",
        "sentiment_objects = [TextBlob(tweet) for tweet in tweets_no_urls]\n",
        "\n",
        "sentiment_objects[0].polarity, sentiment_objects[2]"
      ],
      "execution_count": 23,
      "outputs": [
        {
          "output_type": "execute_result",
          "data": {
            "text/plain": [
              "(-0.5, TextBlob(\"Story of my life  boulder \"))"
            ]
          },
          "metadata": {
            "tags": []
          },
          "execution_count": 23
        }
      ]
    },
    {
      "cell_type": "code",
      "metadata": {
        "id": "qaj7vihRDKhX",
        "colab_type": "code",
        "colab": {
          "base_uri": "https://localhost:8080/",
          "height": 187
        },
        "outputId": "ee98fb26-4cec-4389-f648-4c0f344da315"
      },
      "source": [
        "# Create list of polarity values and tweet text\n",
        "sentiment_values = [[tweet.sentiment.polarity, str(tweet)] for tweet in sentiment_objects]\n",
        "\n",
        "sentiment_values[2:8]"
      ],
      "execution_count": 24,
      "outputs": [
        {
          "output_type": "execute_result",
          "data": {
            "text/plain": [
              "[[0.0, 'Story of my life  boulder '],\n",
              " [0.0,\n",
              "  'Were looking for the two who came to help a cyclist after a hitandrun at 30thBaseline 11pm Dec 23rd Boulder CO '],\n",
              " [0.3575757575757576,\n",
              "  'Happy New Year Boulder  What are some of your New Years resolutions this year'],\n",
              " [0.34545454545454546,\n",
              "  'simon_Says_so Nearly 60 degrees in Boulder today Great place to live '],\n",
              " [0.0, 'Deer boulder onlyinboulder '],\n",
              " [0.0,\n",
              "  'NWS has only bumped up tomrorows odds for snow in Denver from 30 to 40 To me it feels like it should be closer to 60 COwx weather']]"
            ]
          },
          "metadata": {
            "tags": []
          },
          "execution_count": 24
        }
      ]
    },
    {
      "cell_type": "code",
      "metadata": {
        "id": "9sEdUQx7DKgX",
        "colab_type": "code",
        "colab": {
          "base_uri": "https://localhost:8080/",
          "height": 204
        },
        "outputId": "d57925de-e102-4320-9995-0ae534c99b5b"
      },
      "source": [
        "# Create dataframe containing the polarity value and tweet text\n",
        "sentiment_df = pd.DataFrame(sentiment_values, columns=[\"polarity\", \"tweet\"])\n",
        "\n",
        "sentiment_df.tail()"
      ],
      "execution_count": 25,
      "outputs": [
        {
          "output_type": "execute_result",
          "data": {
            "text/html": [
              "<div>\n",
              "<style scoped>\n",
              "    .dataframe tbody tr th:only-of-type {\n",
              "        vertical-align: middle;\n",
              "    }\n",
              "\n",
              "    .dataframe tbody tr th {\n",
              "        vertical-align: top;\n",
              "    }\n",
              "\n",
              "    .dataframe thead th {\n",
              "        text-align: right;\n",
              "    }\n",
              "</style>\n",
              "<table border=\"1\" class=\"dataframe\">\n",
              "  <thead>\n",
              "    <tr style=\"text-align: right;\">\n",
              "      <th></th>\n",
              "      <th>polarity</th>\n",
              "      <th>tweet</th>\n",
              "    </tr>\n",
              "  </thead>\n",
              "  <tbody>\n",
              "    <tr>\n",
              "      <th>18816</th>\n",
              "      <td>0.000</td>\n",
              "      <td>RT EricRobertson A more representative flood p...</td>\n",
              "    </tr>\n",
              "    <tr>\n",
              "      <th>18817</th>\n",
              "      <td>0.125</td>\n",
              "      <td>Warning Flash flood of boulder creek is immine...</td>\n",
              "    </tr>\n",
              "    <tr>\n",
              "      <th>18818</th>\n",
              "      <td>0.550</td>\n",
              "      <td>I just got an Emergency Alert Nice to know the...</td>\n",
              "    </tr>\n",
              "    <tr>\n",
              "      <th>18819</th>\n",
              "      <td>0.000</td>\n",
              "      <td>RT dailycamera RT CUBoulderPolice  Some floodi...</td>\n",
              "    </tr>\n",
              "    <tr>\n",
              "      <th>18820</th>\n",
              "      <td>0.000</td>\n",
              "      <td>monikarun courtneyo eatplaylove Greeblemonkey ...</td>\n",
              "    </tr>\n",
              "  </tbody>\n",
              "</table>\n",
              "</div>"
            ],
            "text/plain": [
              "       polarity                                              tweet\n",
              "18816     0.000  RT EricRobertson A more representative flood p...\n",
              "18817     0.125  Warning Flash flood of boulder creek is immine...\n",
              "18818     0.550  I just got an Emergency Alert Nice to know the...\n",
              "18819     0.000  RT dailycamera RT CUBoulderPolice  Some floodi...\n",
              "18820     0.000  monikarun courtneyo eatplaylove Greeblemonkey ..."
            ]
          },
          "metadata": {
            "tags": []
          },
          "execution_count": 25
        }
      ]
    },
    {
      "cell_type": "code",
      "metadata": {
        "id": "69ubvuBuDKTq",
        "colab_type": "code",
        "colab": {
          "base_uri": "https://localhost:8080/",
          "height": 405
        },
        "outputId": "ecc1c716-d7d6-4edd-c408-bbdd335af588"
      },
      "source": [
        "fig, ax = plt.subplots(figsize=(8, 6))\n",
        "\n",
        "# Plot histogram of the polarity values\n",
        "sentiment_df.hist(bins=[-1, -0.75, -0.5, -0.25, 0.25, 0.5, 0.75, 1],\n",
        "             ax=ax,\n",
        "             color=\"purple\")\n",
        "\n",
        "plt.title(\"Sentiments from Tweets on Climate Change\")\n",
        "plt.show()"
      ],
      "execution_count": 26,
      "outputs": [
        {
          "output_type": "display_data",
          "data": {
            "image/png": "[encoded data removed]",
            "text/plain": [
              "<Figure size 576x432 with 1 Axes>"
            ]
          },
          "metadata": {
            "tags": []
          }
        }
      ]
    },
    {
      "cell_type": "code",
      "metadata": {
        "id": "mnYPbK17DbOY",
        "colab_type": "code",
        "colab": {}
      },
      "source": [
        "# Remove polarity values equal to zero\n",
        "sentiment_df = sentiment_df[sentiment_df.polarity != 0]"
      ],
      "execution_count": 27,
      "outputs": []
    },
    {
      "cell_type": "code",
      "metadata": {
        "id": "SDJ6enbrDeu8",
        "colab_type": "code",
        "colab": {
          "base_uri": "https://localhost:8080/",
          "height": 405
        },
        "outputId": "c84cac46-f531-48e0-f142-a0a6e6368923"
      },
      "source": [
        "fig, ax = plt.subplots(figsize=(8, 6))\n",
        "\n",
        "# Plot histogram with break at zero\n",
        "sentiment_df.hist(bins=[-1, -0.75, -0.5, -0.25, 0.0, 0.25, 0.5, 0.75, 1],\n",
        "             ax=ax,\n",
        "             color=\"purple\")\n",
        "\n",
        "plt.title(\"Sentiments from Tweets From the 2013 Colorado Flood\")\n",
        "plt.show()"
      ],
      "execution_count": 28,
      "outputs": [
        {
          "output_type": "display_data",
          "data": {
            "image/png": "[encoded data removed]",
            "text/plain": [
              "<Figure size 576x432 with 1 Axes>"
            ]
          },
          "metadata": {
            "tags": []
          }
        }
      ]
    }
  ]
}